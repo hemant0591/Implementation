{
 "cells": [
  {
   "cell_type": "markdown",
   "id": "96e579be-c83e-4744-9b09-13e0088bfd0f",
   "metadata": {},
   "source": [
    "## Convolution"
   ]
  },
  {
   "cell_type": "markdown",
   "id": "02b9f2cb-0e92-41b4-b567-8858f5642aa3",
   "metadata": {},
   "source": [
    "### 1D Convolution"
   ]
  },
  {
   "cell_type": "code",
   "execution_count": 1,
   "id": "90a7755c-61f6-4893-b44a-b9d6376f6af5",
   "metadata": {},
   "outputs": [],
   "source": [
    "def conv1d(inp, kernel):\n",
    "    padding = len(kernel) // 2\n",
    "    padded_inp = [0] * padding + inp + [0] * padding\n",
    "    res = []\n",
    "    \n",
    "    for i in range(padding, len(inp) + padding):\n",
    "        out = 0\n",
    "        for j in range(len(kernel)):\n",
    "            out += kernel[j] * padded_inp[i - padding + j]\n",
    "        res.append(out)\n",
    "    \n",
    "    return res"
   ]
  },
  {
   "cell_type": "code",
   "execution_count": 2,
   "id": "24ee4327-2559-4ed5-9d04-6f3f3071572c",
   "metadata": {},
   "outputs": [
    {
     "data": {
      "text/plain": [
       "[-2.0, -2.0, -2.0, -2.0, -2.0, 5.0]"
      ]
     },
     "execution_count": 2,
     "metadata": {},
     "output_type": "execute_result"
    }
   ],
   "source": [
    "signal = [1., 2., 3., 4., 5., 6.]\n",
    "kernel = [1., 0., -1.]\n",
    "output = conv1d(signal, kernel)\n",
    "output"
   ]
  },
  {
   "cell_type": "markdown",
   "id": "f96014ec-1658-45c8-b13a-01df0fd4a076",
   "metadata": {},
   "source": [
    "### Varify result with Pytorch"
   ]
  },
  {
   "cell_type": "code",
   "execution_count": 3,
   "id": "d0fcbc51-080a-47aa-b6a5-b1574c6faa3f",
   "metadata": {},
   "outputs": [],
   "source": [
    "import torch\n",
    "from torch import nn"
   ]
  },
  {
   "cell_type": "code",
   "execution_count": 4,
   "id": "ff509e7e-3fdb-4cb5-aa13-d39f40c131e9",
   "metadata": {},
   "outputs": [
    {
     "data": {
      "text/plain": [
       "tensor([[[-2., -2., -2., -2., -2.,  5.]]], grad_fn=<ConvolutionBackward0>)"
      ]
     },
     "execution_count": 4,
     "metadata": {},
     "output_type": "execute_result"
    }
   ],
   "source": [
    "conv = nn.Conv1d(in_channels=1, out_channels=1, kernel_size=3, padding=1, bias=False)\n",
    "with torch.no_grad():\n",
    "    conv.weight[:] = torch.tensor([[kernel]])  # shape: (out_channels, in_channels, kernel_size)\n",
    "\n",
    "signal = torch.tensor([[ signal ]])  # shape: (batch=1, channels=1, length=3)\n",
    "output = conv(signal)\n",
    "output"
   ]
  },
  {
   "cell_type": "markdown",
   "id": "be5b1844-075e-462f-b9fb-df39cdfefb48",
   "metadata": {},
   "source": [
    "### 2D/3D Convolution"
   ]
  },
  {
   "cell_type": "code",
   "execution_count": 26,
   "id": "1f9adcb8-9cdd-4f4d-8d27-69d674e6b20a",
   "metadata": {},
   "outputs": [],
   "source": [
    "def conv3d(image, kernel):\n",
    "    image_channels, image_height, image_width = image.shape\n",
    "    kernel_channels, kernel_height, kernel_width = kernel.shape\n",
    "    \n",
    "    assert image_channels == kernel_channels, \"channel mismatch\"\n",
    "    \n",
    "    pad_h = (kernel_height - 1) // 2\n",
    "    pad_w = (kernel_width - 1) // 2\n",
    "    \n",
    "    padded_image = np.pad(image, ((0,0), (pad_h, pad_h), (pad_w, pad_w)), mode='constant')\n",
    "    \n",
    "    output = np.zeros((image_height, image_width))\n",
    "    \n",
    "    for c in range(image_channels):\n",
    "        for i in range(image_height):\n",
    "            for j in range(image_width):\n",
    "                img = padded_image[c, i:i+kernel_height, j:j+kernel_width]\n",
    "                output[i,j] += np.sum(img * kernel[c])\n",
    "    \n",
    "    return output"
   ]
  },
  {
   "cell_type": "code",
   "execution_count": 28,
   "id": "647b215e-3fe6-4c26-a230-8f805085941c",
   "metadata": {},
   "outputs": [
    {
     "data": {
      "text/plain": [
       "(64, 64)"
      ]
     },
     "execution_count": 28,
     "metadata": {},
     "output_type": "execute_result"
    }
   ],
   "source": [
    "image = np.random.rand(3, 64, 64)               # RGB image\n",
    "kernel = np.random.rand(3, 3, 3)                # 3x3 kernel for each channel\n",
    "out = conv3d(image, kernel)            # Output shape: (64, 64)\n",
    "out.shape"
   ]
  },
  {
   "cell_type": "code",
   "execution_count": 31,
   "id": "cc3c8337-491c-4416-806f-38c160eb1f2b",
   "metadata": {},
   "outputs": [
    {
     "data": {
      "text/plain": [
       "(64, 64)"
      ]
     },
     "execution_count": 31,
     "metadata": {},
     "output_type": "execute_result"
    }
   ],
   "source": [
    "# Convert inputs to PyTorch tensors\n",
    "image = torch.tensor(image).unsqueeze(0)         # (1, C, H, W)\n",
    "kernel = torch.tensor(kernel).unsqueeze(0)       # (1, C, Kh, Kw)\n",
    "\n",
    "# Set up conv2d with 1 output channel, no bias\n",
    "conv = nn.Conv2d(in_channels=3, out_channels=1, kernel_size=3, padding=1, bias=False)\n",
    "conv.weight.data = kernel  # Set weights directly\n",
    "\n",
    "# Apply convolution\n",
    "output_pt = conv(image).squeeze().detach().numpy()  # remove batch and channel dims\n",
    "output_pt.shape"
   ]
  },
  {
   "cell_type": "code",
   "execution_count": 32,
   "id": "28697944-a085-4416-a44a-783f1ed43634",
   "metadata": {},
   "outputs": [],
   "source": [
    "from fastcore.test import test_close"
   ]
  },
  {
   "cell_type": "markdown",
   "id": "4bab66da-4dbe-4fa3-883a-b5f814e1dc0e",
   "metadata": {},
   "source": [
    "### Check if the output from our function is same as the output from the nn.Conv2D"
   ]
  },
  {
   "cell_type": "code",
   "execution_count": 33,
   "id": "1cbd3f6b-3355-4371-ab7a-8802777075a5",
   "metadata": {},
   "outputs": [],
   "source": [
    "test_close(out, output_pt, eps=1e-5)"
   ]
  },
  {
   "cell_type": "code",
   "execution_count": null,
   "id": "74fe726d-db5b-4f93-9ea4-c0aa74320a75",
   "metadata": {},
   "outputs": [],
   "source": []
  }
 ],
 "metadata": {
  "kernelspec": {
   "display_name": "Python 3 (ipykernel)",
   "language": "python",
   "name": "python3"
  },
  "language_info": {
   "codemirror_mode": {
    "name": "ipython",
    "version": 3
   },
   "file_extension": ".py",
   "mimetype": "text/x-python",
   "name": "python",
   "nbconvert_exporter": "python",
   "pygments_lexer": "ipython3",
   "version": "3.9.13"
  }
 },
 "nbformat": 4,
 "nbformat_minor": 5
}
